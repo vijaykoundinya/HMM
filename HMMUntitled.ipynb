{
 "cells": [
  {
   "cell_type": "code",
   "execution_count": 19,
   "id": "27b5713b",
   "metadata": {},
   "outputs": [],
   "source": [
    "import numpy as np\n",
    "class HMM():\n",
    "    def __init__(self, Observations, Transition, Emission, Initial_distribution):\n",
    "        self.Observations = Observations\n",
    "        self.Transition = Transition\n",
    "        self.Emission = Emission\n",
    "        self.Initial_distribution = Initial_distribution\n",
    "    \n",
    "    def forward(self):\n",
    "        alpha = np.zeros((self.Observations.shape[0], self.Transition.shape[0]))\n",
    "        \n",
    "        \n",
    "        for i in range(self.Observations.shape[0]):\n",
    "            sequence_val = self.Observations[i]\n",
    "            for j in range(self.Transition.shape[0]):\n",
    "                if (i == 0):\n",
    "                    alpha[i, j] = self.Initial_distribution[j] * self.Emission[j,sequence_val]\n",
    "                else:\n",
    "                    values = [alpha[i - 1,k] * self.Emission[j,sequence_val] * self.Transition[k,j] for k in\n",
    "                              range(self.Transition.shape[0])]\n",
    "                    alpha[i,j] = sum(values)\n",
    "        return alpha\n",
    "    \n",
    "    def backward(self):\n",
    "        beta = np.zeros((self.Observations.shape[0], self.Transition.shape[0]))\n",
    "        for i in range(1,1+self.Observations.shape[0]):\n",
    "            for j in range(self.Transition.shape[0]):\n",
    "                if (-i == -1):\n",
    "                    beta[-i, j] = 1\n",
    "                else:\n",
    "                    values = [beta[-i+1,k] * self.Emission[k,self.Observations[-i+1]] * self.Transition[k,j] for k in range(self.Transition.shape[0])]\n",
    "                    beta[-i,j] = sum(values)\n",
    "        return beta\n",
    "    \n",
    "    def gamma_comp(self, alpha, beta):\n",
    "        \n",
    "        gamma = np.zeros((self.Observations.shape[0], self.Transition.shape[0]))\n",
    "        alpha_end = sum(alpha[-1,:])\n",
    "        print(alpha_end)\n",
    "        for i in range(self.Observations.shape[0]):\n",
    "            for j in range(self.Transition.shape[0]):\n",
    "                gamma[i, j] = (alpha[i, j] * beta[i, j]) / alpha_end\n",
    "        return gamma\n",
    "    \n",
    "    def xi_comp(self, alpha, beta, gamma):\n",
    "        \n",
    "        xi = np.zeros((self.Observations.shape[0]-1, self.Transition.shape[0], \n",
    "self.Transition.shape[0]))\n",
    "        alpha_end = sum(alpha[-1,:])\n",
    "        for i in range(self.Observations.shape[0]-1):\n",
    "            for j in range(self.Transition.shape[0]):\n",
    "                for k in range(self.Transition.shape[0]):\n",
    "                    xi[i,j,k] = ( alpha[i,j] * beta[i+1,k] * self.Transition[k,j] * self.Emission[k,self.Observations[i+1]] )\\\n",
    "                    / alpha_end        \n",
    "        return xi\n",
    "    def update(self, alpha, beta, gamma, xi):\n",
    "        new_init_state = np.zeros_like(self.Initial_distribution)\n",
    "        T_prime = np.zeros_like(self.Transition)\n",
    "        M_prime = np.zeros_like(self.Emission)\n",
    "        \n",
    "        for i in range(self.Transition.shape[0]):\n",
    "            for j in range(self.Transition.shape[0]):\n",
    "                for t in range(self.Observations.shape[0]-1):\n",
    "                    T_prime[i,j] = T_prime[i,j] + xi[t,i,j]\n",
    "\n",
    "                denomenator = [xi[t_x, i , i_x] for t_x in range(self.Observations.shape[0] - 1) for i_x in range(self.Transition.shape[0])]\n",
    "                denomenator = sum(denomenator)\n",
    "\n",
    "                if (denomenator == 0):\n",
    "                    T_prime[i,j] = 0\n",
    "                else:\n",
    "                    T_prime[i,j] = T_prime[i,j]/denomenator\n",
    "                    \n",
    "        for i in range(self.Transition.shape[0]): \n",
    "            for j in range(self.Emission.shape[1]): \n",
    "                indices = [idx for idx in range(len(self.Observations)) if(self.Observations[idx] == j)]\n",
    "                numerator_b = sum( gamma[indices,i] )\n",
    "                denomenator_b = sum( gamma[:,i] )\n",
    "\n",
    "                if (denomenator_b == 0):\n",
    "                    M_prime[i,j] = 0\n",
    "                else:\n",
    "                    M_prime[i,j] = numerator_b / denomenator_b\n",
    "        new_init_state = gamma[0,:]\n",
    "        return T_prime, M_prime, new_init_state\n",
    "    \n",
    "    def trajectory_probability(self, alpha, beta, T_prime, M_prime, \n",
    "new_init_state):\n",
    "        P_original = sum(alpha[-1,:])\n",
    "        P_prime = np.array([0.])\n",
    "        alpha_new = np.zeros((self.Observations.shape[0], self.Transition.shape[0]))\n",
    "        for i in range(self.Observations.shape[0]):\n",
    "            sequence_val = self.Observations[i]\n",
    "            for j in range(self.Transition.shape[0]):\n",
    "                if (i == 0):\n",
    "                    alpha_new[i, j] = new_init_state[j] * M_prime[j,sequence_val]\n",
    "                else:\n",
    "                    values = [alpha_new[i - 1,k] * M_prime[j,sequence_val] * T_prime[k,j] for k in\n",
    "                              range(self.Transition.shape[0])]\n",
    "                    alpha_new[i,j] = sum(values)\n",
    "        p_prime = np.array(alpha_new[-1,:])\n",
    "        return P_original, P_prime"
   ]
  },
  {
   "cell_type": "code",
   "execution_count": 20,
   "id": "b8daa20d",
   "metadata": {},
   "outputs": [],
   "source": [
    "k = HMM(np.array([2,0,0,2,1,2,1,1,1,2,1,1,1,1,1,2,2,0,0,1]),np.array([[0.5,0.5],[0.5,0.5]]),np.array([[0.4,0.1,0.5],[0.1,0.5,0.4]]),np.array([0.5,0.5]))"
   ]
  },
  {
   "cell_type": "code",
   "execution_count": 37,
   "id": "808d3620",
   "metadata": {},
   "outputs": [],
   "source": [
    "alpha = k.forward()"
   ]
  },
  {
   "cell_type": "code",
   "execution_count": 38,
   "id": "10ec9d33",
   "metadata": {},
   "outputs": [],
   "source": [
    "beta = k.backward()"
   ]
  },
  {
   "cell_type": "code",
   "execution_count": 39,
   "id": "325af3ea",
   "metadata": {},
   "outputs": [
    {
     "name": "stdout",
     "output_type": "stream",
     "text": [
      "1.9153478765258798e-10\n"
     ]
    }
   ],
   "source": [
    "gamma = k.gamma_comp(alpha,beta)"
   ]
  },
  {
   "cell_type": "code",
   "execution_count": 40,
   "id": "c2518c15",
   "metadata": {},
   "outputs": [],
   "source": [
    "x = k.xi_comp(alpha,beta,gamma)"
   ]
  },
  {
   "cell_type": "code",
   "execution_count": 41,
   "id": "d7d27243",
   "metadata": {},
   "outputs": [],
   "source": [
    "[t_prime,m_prime,n_ew_state] = k.update(alpha,beta,gamma,x)"
   ]
  },
  {
   "cell_type": "code",
   "execution_count": 42,
   "id": "3a4d9fe7",
   "metadata": {},
   "outputs": [
    {
     "data": {
      "text/plain": [
       "array([[2.50000000e-01, 2.00000000e-01],\n",
       "       [9.00000000e-02, 2.25000000e-02],\n",
       "       [2.25000000e-02, 5.62500000e-03],\n",
       "       [7.03125000e-03, 5.62500000e-03],\n",
       "       [6.32812500e-04, 3.16406250e-03],\n",
       "       [9.49218750e-04, 7.59375000e-04],\n",
       "       [8.54296875e-05, 4.27148438e-04],\n",
       "       [2.56289063e-05, 1.28144531e-04],\n",
       "       [7.68867188e-06, 3.84433594e-05],\n",
       "       [1.15330078e-05, 9.22640625e-06],\n",
       "       [1.03797070e-06, 5.18985352e-06],\n",
       "       [3.11391211e-07, 1.55695605e-06],\n",
       "       [9.34173633e-08, 4.67086816e-07],\n",
       "       [2.80252090e-08, 1.40126045e-07],\n",
       "       [8.40756270e-09, 4.20378135e-08],\n",
       "       [1.26113440e-08, 1.00890752e-08],\n",
       "       [5.67510482e-09, 4.54008386e-09],\n",
       "       [2.04303773e-09, 5.10759434e-10],\n",
       "       [5.10759434e-10, 1.27689858e-10],\n",
       "       [3.19224646e-11, 1.59612323e-10]])"
      ]
     },
     "execution_count": 42,
     "metadata": {},
     "output_type": "execute_result"
    }
   ],
   "source": [
    "alpha"
   ]
  },
  {
   "cell_type": "code",
   "execution_count": 43,
   "id": "c06b0ffb",
   "metadata": {},
   "outputs": [
    {
     "data": {
      "text/plain": [
       "array([[4.25632861e-10, 4.25632861e-10],\n",
       "       [1.70253145e-09, 1.70253145e-09],\n",
       "       [6.81012578e-09, 6.81012578e-09],\n",
       "       [1.51336129e-08, 1.51336129e-08],\n",
       "       [5.04453762e-08, 5.04453762e-08],\n",
       "       [1.12100836e-07, 1.12100836e-07],\n",
       "       [3.73669453e-07, 3.73669453e-07],\n",
       "       [1.24556484e-06, 1.24556484e-06],\n",
       "       [4.15188281e-06, 4.15188281e-06],\n",
       "       [9.22640625e-06, 9.22640625e-06],\n",
       "       [3.07546875e-05, 3.07546875e-05],\n",
       "       [1.02515625e-04, 1.02515625e-04],\n",
       "       [3.41718750e-04, 3.41718750e-04],\n",
       "       [1.13906250e-03, 1.13906250e-03],\n",
       "       [3.79687500e-03, 3.79687500e-03],\n",
       "       [8.43750000e-03, 8.43750000e-03],\n",
       "       [1.87500000e-02, 1.87500000e-02],\n",
       "       [7.50000000e-02, 7.50000000e-02],\n",
       "       [3.00000000e-01, 3.00000000e-01],\n",
       "       [1.00000000e+00, 1.00000000e+00]])"
      ]
     },
     "execution_count": 43,
     "metadata": {},
     "output_type": "execute_result"
    }
   ],
   "source": [
    "beta"
   ]
  },
  {
   "cell_type": "code",
   "execution_count": 44,
   "id": "b8d2272d",
   "metadata": {},
   "outputs": [
    {
     "data": {
      "text/plain": [
       "array([[0.47023206, 0.52976794],\n",
       "       [0.3526061 , 0.6473939 ]])"
      ]
     },
     "execution_count": 44,
     "metadata": {},
     "output_type": "execute_result"
    }
   ],
   "source": [
    "t_prime"
   ]
  },
  {
   "cell_type": "code",
   "execution_count": 45,
   "id": "e1f9823d",
   "metadata": {},
   "outputs": [
    {
     "data": {
      "text/plain": [
       "array([[0.3902439 , 0.20325203, 0.40650407],\n",
       "       [0.06779661, 0.70621469, 0.2259887 ]])"
      ]
     },
     "execution_count": 45,
     "metadata": {},
     "output_type": "execute_result"
    }
   ],
   "source": [
    "m_prime"
   ]
  },
  {
   "cell_type": "code",
   "execution_count": 46,
   "id": "ef02c209",
   "metadata": {},
   "outputs": [
    {
     "data": {
      "text/plain": [
       "array([0.55555556, 0.44444444])"
      ]
     },
     "execution_count": 46,
     "metadata": {},
     "output_type": "execute_result"
    }
   ],
   "source": [
    "n_ew_state"
   ]
  },
  {
   "cell_type": "code",
   "execution_count": 47,
   "id": "9b2b7e3c",
   "metadata": {},
   "outputs": [
    {
     "data": {
      "text/plain": [
       "array([[0.55555556, 0.44444444],\n",
       "       [0.8       , 0.2       ],\n",
       "       [0.8       , 0.2       ],\n",
       "       [0.55555556, 0.44444444],\n",
       "       [0.16666667, 0.83333333],\n",
       "       [0.55555556, 0.44444444],\n",
       "       [0.16666667, 0.83333333],\n",
       "       [0.16666667, 0.83333333],\n",
       "       [0.16666667, 0.83333333],\n",
       "       [0.55555556, 0.44444444],\n",
       "       [0.16666667, 0.83333333],\n",
       "       [0.16666667, 0.83333333],\n",
       "       [0.16666667, 0.83333333],\n",
       "       [0.16666667, 0.83333333],\n",
       "       [0.16666667, 0.83333333],\n",
       "       [0.55555556, 0.44444444],\n",
       "       [0.55555556, 0.44444444],\n",
       "       [0.8       , 0.2       ],\n",
       "       [0.8       , 0.2       ],\n",
       "       [0.16666667, 0.83333333]])"
      ]
     },
     "execution_count": 47,
     "metadata": {},
     "output_type": "execute_result"
    }
   ],
   "source": [
    "gamma"
   ]
  },
  {
   "cell_type": "code",
   "execution_count": null,
   "id": "59558075",
   "metadata": {},
   "outputs": [],
   "source": []
  },
  {
   "cell_type": "code",
   "execution_count": null,
   "id": "2d7cbb79",
   "metadata": {},
   "outputs": [],
   "source": []
  },
  {
   "cell_type": "code",
   "execution_count": null,
   "id": "95f6c923",
   "metadata": {},
   "outputs": [],
   "source": []
  }
 ],
 "metadata": {
  "kernelspec": {
   "display_name": "Python 3 (ipykernel)",
   "language": "python",
   "name": "python3"
  },
  "language_info": {
   "codemirror_mode": {
    "name": "ipython",
    "version": 3
   },
   "file_extension": ".py",
   "mimetype": "text/x-python",
   "name": "python",
   "nbconvert_exporter": "python",
   "pygments_lexer": "ipython3",
   "version": "3.9.7"
  }
 },
 "nbformat": 4,
 "nbformat_minor": 5
}
